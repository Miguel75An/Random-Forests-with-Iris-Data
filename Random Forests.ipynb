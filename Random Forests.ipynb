{
 "cells": [
  {
   "cell_type": "markdown",
   "metadata": {},
   "source": [
    "# Random Forests"
   ]
  },
  {
   "cell_type": "markdown",
   "metadata": {},
   "source": [
    "<div class=\"alert alert-block alert-info\">\n",
    "<ul><strong>\n",
    "<li>MIGUEL DOMINGUEZ</li>\n",
    "<li>CSC 59929</li>\n",
    "<li>Machine Learning</li>\n",
    "<li>Prof. Erik K. Grimmelmann </li>\n",
    "<li>Date: 10/31/17 </li>\n",
    "<li>Homework Week 9 </li>\n",
    "</strong>\n",
    "</ul>\n",
    "</div>"
   ]
  },
  {
   "cell_type": "markdown",
   "metadata": {},
   "source": [
    "<div class=\"alert alert-block alert-warning\">\n",
    "<h2>Keywords</h2>\n",
    "<ul>\n",
    "<li><b>weak learner:</b> a classifier whose results are only slighly correlated with the true classification</li>\n",
    "<li><b>strong learner:</b> robust model, can be built from weak learners to have a better generalization error and be less likely to be influended by overfitting</li>\n",
    "<li><b>random forest:</b> an ensemble or group of decision trees, has good scalability, good performance classification and easy to use </li>\n",
    "<li><b>bootstrap:</b> randomly choosing fixed sized samples from the training set with replacement</li>\n",
    "<li><b>majority vote:</b> majority voting simply means that we select the class label that has been predicted by the majority of classifiers, that is, received more than 50 percent of the votes </li>\n",
    "<li><b>out-of-bag:</b> baging means that we take random samples with repetition allowed, this means that some samples might have duplicates or they can have missing data from the given training data. A data point is said to be out of the bag for the bootstrap samples that do not contain it. The idea is to use the samples not containing (missingX, missingY) so that the models will then predict missing Y when we give them missing X. We are predicting with extra test data while still having testing data not included in the training.</li>\n",
    "</ul>\n",
    "</div>"
   ]
  },
  {
   "cell_type": "code",
   "execution_count": 2,
   "metadata": {
    "collapsed": true
   },
   "outputs": [],
   "source": [
    "import numpy as np\n",
    "import pandas as pd\n",
    "import matplotlib.pyplot as plt \n",
    "from matplotlib.ticker import MaxNLocator \n",
    "from matplotlib.colors import ListedColormap\n",
    "from IPython.display import Image\n",
    "%matplotlib inline\n",
    "import graphviz \n",
    "from graphviz import Digraph\n",
    "from sklearn.model_selection import train_test_split\n",
    "from sklearn.tree import DecisionTreeClassifier\n",
    "from sklearn.ensemble import RandomForestClassifier\n",
    "from sklearn.tree import export_graphviz\n",
    "from sklearn.ensemble import AdaBoostClassifier\n",
    "from sklearn.metrics import accuracy_score\n",
    "from astropy.table import Table, Column"
   ]
  },
  {
   "cell_type": "markdown",
   "metadata": {},
   "source": [
    "## Discussion and Results:"
   ]
  },
  {
   "cell_type": "markdown",
   "metadata": {},
   "source": [
    "<div class=\"alert alert-block alert-success\">\n",
    "Here, we learn about how Random Forests work and how useful they are in classification. We use the Iris Dataset to demonstrate how Random Forests can be implemented. To start, we need to learn about about the algorithm behind Random Forests. The first step is to use bootstrapping, which means to randomly pick samples from the training data with replacement. Each bootstrap sample will be used for one Decision Tree. Each individual tree can also pick how many features to use for the node divisions. Consequently, we will have many trees which classify data according to what each tree learned. To decide how the entire forest should classify a data value we use majority voting, in other words, use the most frequent class selection that the trees give us. \n",
    "<br><br>\n",
    "For our implementation, we use Decision Trees of depths 1 , 2 and 3. As well, we change the forest size from 10 trees up to 100 trees. In theory, more trees will increase the accuracy of the entire forest but more means higher cost as well. So for each depth we use all forest sizes and create decision trees that take the training data but this data is bootstrapped. We use random_state = 1 as the parameters for the classifier model in order to bootstrap, as well we set oob_score = True in order to get the out-of-bag accuracy for each tree. Our results indicate that for forests with depth 1 (reminds me of small green pea plants grouped together), the out-of-bag scored was low, around 74% for the highest, lowest was 63%. Next we move to forests with depth 2, here we found better results, highest was 95% and lowest was 89%. Finally for forests with depth 3, the out-of-bag score stays between 94% to 95%. A surprising result was that some forests with more trees produced a worse accuracy that forests with less tree. This alarms our attention to further investigate more about if such bigger forests tended to overfit the models. Perhaps since the Iris data set is rather small this occured. But in general, trees with higher depth provide more accurate classifications. \n",
    "<br><br>\n",
    "All results can be seen in the table and also a graph for the out-of-bag scores is provided. \n",
    "</div>"
   ]
  },
  {
   "cell_type": "code",
   "execution_count": 3,
   "metadata": {},
   "outputs": [
    {
     "data": {
      "text/html": [
       "<div>\n",
       "<style>\n",
       "    .dataframe thead tr:only-child th {\n",
       "        text-align: right;\n",
       "    }\n",
       "\n",
       "    .dataframe thead th {\n",
       "        text-align: left;\n",
       "    }\n",
       "\n",
       "    .dataframe tbody tr th {\n",
       "        vertical-align: top;\n",
       "    }\n",
       "</style>\n",
       "<table border=\"1\" class=\"dataframe\">\n",
       "  <thead>\n",
       "    <tr style=\"text-align: right;\">\n",
       "      <th></th>\n",
       "      <th>Sepal Length [0]</th>\n",
       "      <th>Sepal Width [1]</th>\n",
       "      <th>Petal Length [2]</th>\n",
       "      <th>Petal Width [3]</th>\n",
       "      <th>Class</th>\n",
       "    </tr>\n",
       "  </thead>\n",
       "  <tbody>\n",
       "    <tr>\n",
       "      <th>0</th>\n",
       "      <td>5.1</td>\n",
       "      <td>3.5</td>\n",
       "      <td>1.4</td>\n",
       "      <td>0.2</td>\n",
       "      <td>Iris-setosa</td>\n",
       "    </tr>\n",
       "    <tr>\n",
       "      <th>1</th>\n",
       "      <td>4.9</td>\n",
       "      <td>3.0</td>\n",
       "      <td>1.4</td>\n",
       "      <td>0.2</td>\n",
       "      <td>Iris-setosa</td>\n",
       "    </tr>\n",
       "    <tr>\n",
       "      <th>2</th>\n",
       "      <td>4.7</td>\n",
       "      <td>3.2</td>\n",
       "      <td>1.3</td>\n",
       "      <td>0.2</td>\n",
       "      <td>Iris-setosa</td>\n",
       "    </tr>\n",
       "    <tr>\n",
       "      <th>3</th>\n",
       "      <td>4.6</td>\n",
       "      <td>3.1</td>\n",
       "      <td>1.5</td>\n",
       "      <td>0.2</td>\n",
       "      <td>Iris-setosa</td>\n",
       "    </tr>\n",
       "    <tr>\n",
       "      <th>4</th>\n",
       "      <td>5.0</td>\n",
       "      <td>3.6</td>\n",
       "      <td>1.4</td>\n",
       "      <td>0.2</td>\n",
       "      <td>Iris-setosa</td>\n",
       "    </tr>\n",
       "  </tbody>\n",
       "</table>\n",
       "</div>"
      ],
      "text/plain": [
       "   Sepal Length [0]  Sepal Width [1]  Petal Length [2]  Petal Width [3]  \\\n",
       "0               5.1              3.5               1.4              0.2   \n",
       "1               4.9              3.0               1.4              0.2   \n",
       "2               4.7              3.2               1.3              0.2   \n",
       "3               4.6              3.1               1.5              0.2   \n",
       "4               5.0              3.6               1.4              0.2   \n",
       "\n",
       "         Class  \n",
       "0  Iris-setosa  \n",
       "1  Iris-setosa  \n",
       "2  Iris-setosa  \n",
       "3  Iris-setosa  \n",
       "4  Iris-setosa  "
      ]
     },
     "execution_count": 3,
     "metadata": {},
     "output_type": "execute_result"
    }
   ],
   "source": [
    "#Obtain Iris Dataset and save it to a Pandas Frame\n",
    "iris = pd.read_csv('https://archive.ics.uci.edu/ml/machine-learning-databases/iris/iris.data', header = None)\n",
    "#Rename columns\n",
    "new_columns = ['Sepal Length [0]', 'Sepal Width [1]', 'Petal Length [2]', 'Petal Width [3]','Class']\n",
    "iris.columns = new_columns\n",
    "iris.head()"
   ]
  },
  {
   "cell_type": "code",
   "execution_count": 4,
   "metadata": {
    "collapsed": true
   },
   "outputs": [],
   "source": [
    "#We use all 3 flower clases (SVV means Setosa & Versicolor & Virginica)\n",
    "SVV = iris.iloc[:,:].values\n",
    "\n",
    "#Standardize the features\n",
    "for i in range(0,4):\n",
    "    SVV[:,i] = (SVV[:,i] - SVV[:,i].mean()) / SVV[:,i].std()   \n",
    "\n",
    "#Samples    \n",
    "X = SVV[:,0:4]    \n",
    "\n",
    "#Get class vector\n",
    "y = SVV[:,4]\n",
    "for i in range(0,len(y)):\n",
    "    if y[i] == 'Iris-setosa':\n",
    "        y[i] = 0\n",
    "    elif y[i] == 'Iris-versicolor':\n",
    "         y[i] = 1\n",
    "    else:\n",
    "         y[i] = 2\n",
    "#Convert Y to list\n",
    "y = y.tolist()"
   ]
  },
  {
   "cell_type": "code",
   "execution_count": 5,
   "metadata": {
    "collapsed": true
   },
   "outputs": [],
   "source": [
    "# Split data into 70% training and 30% test data\n",
    "from sklearn.model_selection import train_test_split\n",
    "\n",
    "X_train, X_test, y_train, y_test = train_test_split(\n",
    "         X, y, test_size=0.30, random_state=0)"
   ]
  },
  {
   "cell_type": "markdown",
   "metadata": {},
   "source": [
    "## Algorithm for Random Forests"
   ]
  },
  {
   "cell_type": "markdown",
   "metadata": {},
   "source": [
    "<ol>\n",
    "  <li>Draw a bootstrap sample of size n, it means to pick n random samples from the training dataset. Replacement is allowed</li>\n",
    "  <li>Grow a decision tree for the bootstrap sample. At each node:\n",
    "  <ul>\n",
    "  <li>Randomly select d features, no replacement. </li>\n",
    "  <li>Split node using best split feature, according to the function, like the information gain. </li>\n",
    "  </ul>\n",
    "  </li>\n",
    "  <li>Repeat 1 and 2 k times.</li>\n",
    "  <li>Combine Predictions by each tree to assign the class label, we do this by majority vote.</li>\n",
    "</ol>"
   ]
  },
  {
   "cell_type": "code",
   "execution_count": 6,
   "metadata": {},
   "outputs": [],
   "source": [
    "#Specify tree depths and forest sizes\n",
    "depths = [1,2,3]\n",
    "forest_size = [10,15,20,25,50,100]\n",
    "scores = np.zeros((len(depths),len(forest_size)))\n",
    "#For table labels\n",
    "depth_col = [] \n",
    "forest_size_col = []\n",
    "\n",
    "\n",
    "for i,depth in enumerate(depths):\n",
    "    for j,size in enumerate(forest_size):\n",
    "        forest = RandomForestClassifier(criterion='entropy', n_estimators=size, oob_score = True, \n",
    "                                        max_depth = depth,  random_state=1, n_jobs=2)\n",
    "        #Training and accuracy for each forest\n",
    "        forest.fit(X_train, y_train)\n",
    "        scores[i,j] = forest.oob_score_\n",
    "        #print(forest.oob_score_)\n",
    "        \n",
    "        #Collect labels for table\n",
    "        depth_col.append(depth)\n",
    "        forest_size_col.append(size)"
   ]
  },
  {
   "cell_type": "code",
   "execution_count": 7,
   "metadata": {
    "collapsed": true
   },
   "outputs": [],
   "source": [
    "#Gather data for table\n",
    "outofbag = np.concatenate((scores[0,:],scores[1,:]))\n",
    "outofbag = np.concatenate((outofbag,scores[2,:]))\n",
    "\n",
    "#Table of Results\n",
    "table = Table([depth_col, forest_size_col, outofbag], \n",
    "              names =('Tree Depth','Forest Size','Out-of-Bag Score'))"
   ]
  },
  {
   "cell_type": "markdown",
   "metadata": {},
   "source": [
    "## Table for Out-of-Bag Scores"
   ]
  },
  {
   "cell_type": "code",
   "execution_count": 8,
   "metadata": {
    "scrolled": false
   },
   "outputs": [
    {
     "data": {
      "text/html": [
       "&lt;Table length=18&gt;\n",
       "<table id=\"table2807380374976\" class=\"table-striped table-bordered table-condensed\">\n",
       "<thead><tr><th>Tree Depth</th><th>Forest Size</th><th>Out-of-Bag Score</th></tr></thead>\n",
       "<thead><tr><th>int32</th><th>int32</th><th>float64</th></tr></thead>\n",
       "<tr><td>1</td><td>10</td><td>0.638095238095</td></tr>\n",
       "<tr><td>1</td><td>15</td><td>0.685714285714</td></tr>\n",
       "<tr><td>1</td><td>20</td><td>0.742857142857</td></tr>\n",
       "<tr><td>1</td><td>25</td><td>0.733333333333</td></tr>\n",
       "<tr><td>1</td><td>50</td><td>0.742857142857</td></tr>\n",
       "<tr><td>1</td><td>100</td><td>0.695238095238</td></tr>\n",
       "<tr><td>2</td><td>10</td><td>0.895238095238</td></tr>\n",
       "<tr><td>2</td><td>15</td><td>0.933333333333</td></tr>\n",
       "<tr><td>2</td><td>20</td><td>0.92380952381</td></tr>\n",
       "<tr><td>2</td><td>25</td><td>0.933333333333</td></tr>\n",
       "<tr><td>2</td><td>50</td><td>0.952380952381</td></tr>\n",
       "<tr><td>2</td><td>100</td><td>0.942857142857</td></tr>\n",
       "<tr><td>3</td><td>10</td><td>0.942857142857</td></tr>\n",
       "<tr><td>3</td><td>15</td><td>0.942857142857</td></tr>\n",
       "<tr><td>3</td><td>20</td><td>0.952380952381</td></tr>\n",
       "<tr><td>3</td><td>25</td><td>0.952380952381</td></tr>\n",
       "<tr><td>3</td><td>50</td><td>0.942857142857</td></tr>\n",
       "<tr><td>3</td><td>100</td><td>0.952380952381</td></tr>\n",
       "</table>"
      ],
      "text/plain": [
       "<Table length=18>\n",
       "Tree Depth Forest Size Out-of-Bag Score\n",
       "  int32       int32        float64     \n",
       "---------- ----------- ----------------\n",
       "         1          10   0.638095238095\n",
       "         1          15   0.685714285714\n",
       "         1          20   0.742857142857\n",
       "         1          25   0.733333333333\n",
       "         1          50   0.742857142857\n",
       "         1         100   0.695238095238\n",
       "         2          10   0.895238095238\n",
       "         2          15   0.933333333333\n",
       "         2          20    0.92380952381\n",
       "         2          25   0.933333333333\n",
       "         2          50   0.952380952381\n",
       "         2         100   0.942857142857\n",
       "         3          10   0.942857142857\n",
       "         3          15   0.942857142857\n",
       "         3          20   0.952380952381\n",
       "         3          25   0.952380952381\n",
       "         3          50   0.942857142857\n",
       "         3         100   0.952380952381"
      ]
     },
     "execution_count": 8,
     "metadata": {},
     "output_type": "execute_result"
    }
   ],
   "source": [
    "table"
   ]
  },
  {
   "cell_type": "code",
   "execution_count": 10,
   "metadata": {},
   "outputs": [
    {
     "data": {
      "image/png": "[encoded data removed]",
      "text/plain": [
       "<matplotlib.figure.Figure at 0x28da5035a20>"
      ]
     },
     "metadata": {},
     "output_type": "display_data"
    }
   ],
   "source": [
    "plt.close('all')\n",
    "fig, ax = plt.subplots(figsize = (16,4))\n",
    "ax.set_xlabel(' Random Forest Size')\n",
    "ax.set_ylabel('Accuracy')\n",
    "ax.set_title(\"Out-of-Bag Score for Random Forests \", fontsize =22)\n",
    "ax.xaxis.set_major_locator(MaxNLocator(integer=True))\n",
    "ax.plot(forest_size,scores[0,:], label='depth 1', color='#CD3131')\n",
    "ax.plot(forest_size,scores[1,:], label='depth 2', color='#8FECC8')\n",
    "ax.plot(forest_size,scores[2,:], label='depth 3', color='#FCC314')\n",
    "ax.legend(loc='center right', fontsize='medium')\n",
    "plt.show()"
   ]
  },
  {
   "cell_type": "markdown",
   "metadata": {},
   "source": [
    "<div class=\"alert alert-block alert-success\">\n",
    "Typically, the larger the number of trees, the better the performance of the random forest classifier at the expense of increased computational cost.\n",
    "</div>"
   ]
  },
  {
   "cell_type": "markdown",
   "metadata": {},
   "source": [
    "<div class=\"alert alert-block alert-success\">\n",
    "Increasing the size n of the bootstraping sample decreases randomness and thus the forest is more likely to overfit. Decreasing the size n reduces the degree of overfitting at the cost of model performance. \n",
    "</div>"
   ]
  }
 ],
 "metadata": {
  "kernelspec": {
   "display_name": "Python 3",
   "language": "python",
   "name": "python3"
  },
  "language_info": {
   "codemirror_mode": {
    "name": "ipython",
    "version": 3
   },
   "file_extension": ".py",
   "mimetype": "text/x-python",
   "name": "python",
   "nbconvert_exporter": "python",
   "pygments_lexer": "ipython3",
   "version": "3.5.4"
  }
 },
 "nbformat": 4,
 "nbformat_minor": 2
}
